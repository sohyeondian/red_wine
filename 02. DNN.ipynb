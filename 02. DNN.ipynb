{
 "cells": [
  {
   "cell_type": "code",
   "execution_count": 1,
   "metadata": {
    "scrolled": true
   },
   "outputs": [
    {
     "data": {
      "text/html": [
       "<div>\n",
       "<style scoped>\n",
       "    .dataframe tbody tr th:only-of-type {\n",
       "        vertical-align: middle;\n",
       "    }\n",
       "\n",
       "    .dataframe tbody tr th {\n",
       "        vertical-align: top;\n",
       "    }\n",
       "\n",
       "    .dataframe thead th {\n",
       "        text-align: right;\n",
       "    }\n",
       "</style>\n",
       "<table border=\"1\" class=\"dataframe\">\n",
       "  <thead>\n",
       "    <tr style=\"text-align: right;\">\n",
       "      <th></th>\n",
       "      <th>fixed acidity</th>\n",
       "      <th>volatile acidity</th>\n",
       "      <th>citric acid</th>\n",
       "      <th>residual sugar</th>\n",
       "      <th>chlorides</th>\n",
       "      <th>free sulfur dioxide</th>\n",
       "      <th>total sulfur dioxide</th>\n",
       "      <th>density</th>\n",
       "      <th>pH</th>\n",
       "      <th>sulphates</th>\n",
       "      <th>alcohol</th>\n",
       "      <th>quality</th>\n",
       "    </tr>\n",
       "  </thead>\n",
       "  <tbody>\n",
       "    <tr>\n",
       "      <th>1130</th>\n",
       "      <td>-1.348760</td>\n",
       "      <td>0.472561</td>\n",
       "      <td>-0.920875</td>\n",
       "      <td>-0.411432</td>\n",
       "      <td>0.852138</td>\n",
       "      <td>2.005078</td>\n",
       "      <td>0.124061</td>\n",
       "      <td>-1.072016</td>\n",
       "      <td>0.958482</td>\n",
       "      <td>-0.432124</td>\n",
       "      <td>0.153822</td>\n",
       "      <td>0</td>\n",
       "    </tr>\n",
       "    <tr>\n",
       "      <th>1131</th>\n",
       "      <td>-1.556604</td>\n",
       "      <td>0.168814</td>\n",
       "      <td>-0.809927</td>\n",
       "      <td>0.044154</td>\n",
       "      <td>-1.186476</td>\n",
       "      <td>2.820555</td>\n",
       "      <td>0.408443</td>\n",
       "      <td>-0.930741</td>\n",
       "      <td>1.496465</td>\n",
       "      <td>1.174772</td>\n",
       "      <td>0.888193</td>\n",
       "      <td>1</td>\n",
       "    </tr>\n",
       "    <tr>\n",
       "      <th>1132</th>\n",
       "      <td>-1.279478</td>\n",
       "      <td>-0.074184</td>\n",
       "      <td>-0.643503</td>\n",
       "      <td>0.271947</td>\n",
       "      <td>-0.167169</td>\n",
       "      <td>1.655588</td>\n",
       "      <td>-0.038443</td>\n",
       "      <td>-0.532602</td>\n",
       "      <td>0.727918</td>\n",
       "      <td>1.085500</td>\n",
       "      <td>0.678372</td>\n",
       "      <td>1</td>\n",
       "    </tr>\n",
       "    <tr>\n",
       "      <th>1133</th>\n",
       "      <td>-1.556604</td>\n",
       "      <td>0.745933</td>\n",
       "      <td>-0.698978</td>\n",
       "      <td>-0.411432</td>\n",
       "      <td>-0.239977</td>\n",
       "      <td>2.005078</td>\n",
       "      <td>0.124061</td>\n",
       "      <td>-0.705985</td>\n",
       "      <td>1.880738</td>\n",
       "      <td>0.728412</td>\n",
       "      <td>-0.160908</td>\n",
       "      <td>0</td>\n",
       "    </tr>\n",
       "    <tr>\n",
       "      <th>1134</th>\n",
       "      <td>-1.487322</td>\n",
       "      <td>-1.289172</td>\n",
       "      <td>1.242627</td>\n",
       "      <td>3.233255</td>\n",
       "      <td>-0.822438</td>\n",
       "      <td>0.374124</td>\n",
       "      <td>0.042809</td>\n",
       "      <td>-0.693142</td>\n",
       "      <td>0.497354</td>\n",
       "      <td>0.282052</td>\n",
       "      <td>0.678372</td>\n",
       "      <td>1</td>\n",
       "    </tr>\n",
       "  </tbody>\n",
       "</table>\n",
       "</div>"
      ],
      "text/plain": [
       "      fixed acidity  volatile acidity  citric acid  residual sugar  chlorides  \\\n",
       "1130      -1.348760          0.472561    -0.920875       -0.411432   0.852138   \n",
       "1131      -1.556604          0.168814    -0.809927        0.044154  -1.186476   \n",
       "1132      -1.279478         -0.074184    -0.643503        0.271947  -0.167169   \n",
       "1133      -1.556604          0.745933    -0.698978       -0.411432  -0.239977   \n",
       "1134      -1.487322         -1.289172     1.242627        3.233255  -0.822438   \n",
       "\n",
       "      free sulfur dioxide  total sulfur dioxide   density        pH  \\\n",
       "1130             2.005078              0.124061 -1.072016  0.958482   \n",
       "1131             2.820555              0.408443 -0.930741  1.496465   \n",
       "1132             1.655588             -0.038443 -0.532602  0.727918   \n",
       "1133             2.005078              0.124061 -0.705985  1.880738   \n",
       "1134             0.374124              0.042809 -0.693142  0.497354   \n",
       "\n",
       "      sulphates   alcohol  quality  \n",
       "1130  -0.432124  0.153822        0  \n",
       "1131   1.174772  0.888193        1  \n",
       "1132   1.085500  0.678372        1  \n",
       "1133   0.728412 -0.160908        0  \n",
       "1134   0.282052  0.678372        1  "
      ]
     },
     "execution_count": 1,
     "metadata": {},
     "output_type": "execute_result"
    }
   ],
   "source": [
    "from tensorflow import keras\n",
    "from sklearn.model_selection import train_test_split\n",
    "import numpy as np\n",
    "import pandas as pd\n",
    "\n",
    "red = pd.read_csv(\"data/out_binary_class_scaled.csv\")\n",
    "\n",
    "red.tail()"
   ]
  },
  {
   "cell_type": "code",
   "execution_count": 2,
   "metadata": {},
   "outputs": [],
   "source": [
    "X = red.drop(['quality'], axis=1)\n",
    "y = red['quality']\n",
    "\n",
    "X_train, X_test, y_train, y_test = train_test_split(\n",
    "    X, y, test_size=0.2, random_state = 42)\n",
    "\n",
    "train_scaled, val_scaled, train_target, val_target = train_test_split(\n",
    "    X_train, y_train, test_size=0.2)"
   ]
  },
  {
   "cell_type": "code",
   "execution_count": 3,
   "metadata": {},
   "outputs": [],
   "source": [
    "model = keras.Sequential()\n",
    "model.add(keras.layers.Dense(30, input_dim=len(X.columns), activation='relu'))\n",
    "model.add(keras.layers.Dense(12, activation='relu'))\n",
    "model.add(keras.layers.Dense(8, activation='relu'))\n",
    "model.add(keras.layers.Dense(1, activation='sigmoid'))"
   ]
  },
  {
   "cell_type": "code",
   "execution_count": 4,
   "metadata": {},
   "outputs": [
    {
     "name": "stdout",
     "output_type": "stream",
     "text": [
      "Model: \"sequential\"\n",
      "_________________________________________________________________\n",
      "Layer (type)                 Output Shape              Param #   \n",
      "=================================================================\n",
      "dense (Dense)                (None, 30)                360       \n",
      "_________________________________________________________________\n",
      "dense_1 (Dense)              (None, 12)                372       \n",
      "_________________________________________________________________\n",
      "dense_2 (Dense)              (None, 8)                 104       \n",
      "_________________________________________________________________\n",
      "dense_3 (Dense)              (None, 1)                 9         \n",
      "=================================================================\n",
      "Total params: 845\n",
      "Trainable params: 845\n",
      "Non-trainable params: 0\n",
      "_________________________________________________________________\n"
     ]
    }
   ],
   "source": [
    "model.summary()"
   ]
  },
  {
   "cell_type": "code",
   "execution_count": 5,
   "metadata": {},
   "outputs": [
    {
     "name": "stdout",
     "output_type": "stream",
     "text": [
      "Epoch 1/100\n",
      "8/8 [==============================] - 1s 22ms/step - loss: 0.7082 - accuracy: 0.4421 - val_loss: 0.7045 - val_accuracy: 0.4451\n",
      "Epoch 2/100\n",
      "8/8 [==============================] - 0s 4ms/step - loss: 0.6955 - accuracy: 0.5014 - val_loss: 0.6938 - val_accuracy: 0.5330\n",
      "Epoch 3/100\n",
      "8/8 [==============================] - 0s 5ms/step - loss: 0.6855 - accuracy: 0.5758 - val_loss: 0.6845 - val_accuracy: 0.5714\n",
      "Epoch 4/100\n",
      "8/8 [==============================] - 0s 5ms/step - loss: 0.6747 - accuracy: 0.6240 - val_loss: 0.6729 - val_accuracy: 0.6209\n",
      "Epoch 5/100\n",
      "8/8 [==============================] - 0s 4ms/step - loss: 0.6630 - accuracy: 0.6570 - val_loss: 0.6582 - val_accuracy: 0.6538\n",
      "Epoch 6/100\n",
      "8/8 [==============================] - 0s 4ms/step - loss: 0.6484 - accuracy: 0.6915 - val_loss: 0.6399 - val_accuracy: 0.6923\n",
      "Epoch 7/100\n",
      "8/8 [==============================] - 0s 4ms/step - loss: 0.6316 - accuracy: 0.6983 - val_loss: 0.6188 - val_accuracy: 0.7418\n",
      "Epoch 8/100\n",
      "8/8 [==============================] - 0s 4ms/step - loss: 0.6147 - accuracy: 0.7094 - val_loss: 0.5983 - val_accuracy: 0.7363\n",
      "Epoch 9/100\n",
      "8/8 [==============================] - 0s 8ms/step - loss: 0.5996 - accuracy: 0.7176 - val_loss: 0.5788 - val_accuracy: 0.7527\n",
      "Epoch 10/100\n",
      "8/8 [==============================] - 0s 4ms/step - loss: 0.5853 - accuracy: 0.7204 - val_loss: 0.5617 - val_accuracy: 0.7473\n",
      "Epoch 11/100\n",
      "8/8 [==============================] - 0s 4ms/step - loss: 0.5752 - accuracy: 0.7218 - val_loss: 0.5470 - val_accuracy: 0.7582\n",
      "Epoch 12/100\n",
      "8/8 [==============================] - 0s 4ms/step - loss: 0.5646 - accuracy: 0.7245 - val_loss: 0.5359 - val_accuracy: 0.7527\n",
      "Epoch 13/100\n",
      "8/8 [==============================] - 0s 4ms/step - loss: 0.5565 - accuracy: 0.7287 - val_loss: 0.5283 - val_accuracy: 0.7637\n",
      "Epoch 14/100\n",
      "8/8 [==============================] - 0s 5ms/step - loss: 0.5491 - accuracy: 0.7314 - val_loss: 0.5208 - val_accuracy: 0.7692\n",
      "Epoch 15/100\n",
      "8/8 [==============================] - 0s 4ms/step - loss: 0.5421 - accuracy: 0.7314 - val_loss: 0.5161 - val_accuracy: 0.7637\n",
      "Epoch 16/100\n",
      "8/8 [==============================] - 0s 4ms/step - loss: 0.5364 - accuracy: 0.7300 - val_loss: 0.5106 - val_accuracy: 0.7747\n",
      "Epoch 17/100\n",
      "8/8 [==============================] - 0s 4ms/step - loss: 0.5310 - accuracy: 0.7328 - val_loss: 0.5048 - val_accuracy: 0.7747\n",
      "Epoch 18/100\n",
      "8/8 [==============================] - 0s 4ms/step - loss: 0.5263 - accuracy: 0.7397 - val_loss: 0.5002 - val_accuracy: 0.7747\n",
      "Epoch 19/100\n",
      "8/8 [==============================] - 0s 4ms/step - loss: 0.5223 - accuracy: 0.7383 - val_loss: 0.4958 - val_accuracy: 0.7802\n",
      "Epoch 20/100\n",
      "8/8 [==============================] - 0s 4ms/step - loss: 0.5186 - accuracy: 0.7369 - val_loss: 0.4938 - val_accuracy: 0.7802\n",
      "Epoch 21/100\n",
      "8/8 [==============================] - 0s 4ms/step - loss: 0.5148 - accuracy: 0.7383 - val_loss: 0.4926 - val_accuracy: 0.7802\n",
      "Epoch 22/100\n",
      "8/8 [==============================] - 0s 5ms/step - loss: 0.5127 - accuracy: 0.7397 - val_loss: 0.4929 - val_accuracy: 0.7912\n",
      "Epoch 23/100\n",
      "8/8 [==============================] - 0s 4ms/step - loss: 0.5095 - accuracy: 0.7410 - val_loss: 0.4910 - val_accuracy: 0.7857\n",
      "Epoch 24/100\n",
      "8/8 [==============================] - 0s 4ms/step - loss: 0.5071 - accuracy: 0.7424 - val_loss: 0.4877 - val_accuracy: 0.7912\n",
      "Epoch 25/100\n",
      "8/8 [==============================] - 0s 4ms/step - loss: 0.5045 - accuracy: 0.7452 - val_loss: 0.4862 - val_accuracy: 0.7967\n",
      "Epoch 26/100\n",
      "8/8 [==============================] - 0s 4ms/step - loss: 0.5019 - accuracy: 0.7521 - val_loss: 0.4851 - val_accuracy: 0.7747\n",
      "Epoch 27/100\n",
      "8/8 [==============================] - 0s 5ms/step - loss: 0.4994 - accuracy: 0.7521 - val_loss: 0.4820 - val_accuracy: 0.7967\n",
      "Epoch 28/100\n",
      "8/8 [==============================] - 0s 4ms/step - loss: 0.4975 - accuracy: 0.7534 - val_loss: 0.4804 - val_accuracy: 0.7912\n",
      "Epoch 29/100\n",
      "8/8 [==============================] - 0s 4ms/step - loss: 0.4954 - accuracy: 0.7562 - val_loss: 0.4807 - val_accuracy: 0.7857\n",
      "Epoch 30/100\n",
      "8/8 [==============================] - 0s 4ms/step - loss: 0.4937 - accuracy: 0.7548 - val_loss: 0.4826 - val_accuracy: 0.7802\n",
      "Epoch 31/100\n",
      "8/8 [==============================] - 0s 5ms/step - loss: 0.4922 - accuracy: 0.7548 - val_loss: 0.4829 - val_accuracy: 0.7802\n"
     ]
    }
   ],
   "source": [
    "rmsprop = keras.optimizers.RMSprop(learning_rate=1e-4)\n",
    "model.compile(optimizer='adam',loss='binary_crossentropy', metrics=['accuracy'])\n",
    "\n",
    "checkpoint_cb = keras.callbacks.ModelCheckpoint('test-model.h5')\n",
    "\n",
    "early_stopping_cb = keras.callbacks.EarlyStopping(patience=3,\n",
    "                                                  restore_best_weights=True)\n",
    "\n",
    "history = model.fit(train_scaled, train_target, \n",
    "                    batch_size=100, epochs=100,\n",
    "                    validation_data=(val_scaled, val_target), \n",
    "                    callbacks=[checkpoint_cb, early_stopping_cb])"
   ]
  },
  {
   "cell_type": "code",
   "execution_count": 6,
   "metadata": {},
   "outputs": [
    {
     "data": {
      "image/png": "[encoded data removed]",
      "text/plain": [
       "<Figure size 432x288 with 1 Axes>"
      ]
     },
     "metadata": {
      "needs_background": "light"
     },
     "output_type": "display_data"
    }
   ],
   "source": [
    "import matplotlib.pyplot as plt\n",
    "%matplotlib inline\n",
    "\n",
    "plt.plot(history.history['loss'])\n",
    "plt.plot(history.history['val_loss'])\n",
    "plt.xlabel('epoch')\n",
    "plt.ylabel('loss')\n",
    "plt.legend(['train', 'val'])\n",
    "plt.show()"
   ]
  },
  {
   "cell_type": "code",
   "execution_count": 7,
   "metadata": {
    "scrolled": true
   },
   "outputs": [
    {
     "data": {
      "image/png": "[encoded data removed]",
      "text/plain": [
       "<Figure size 432x288 with 1 Axes>"
      ]
     },
     "metadata": {
      "needs_background": "light"
     },
     "output_type": "display_data"
    }
   ],
   "source": [
    "plt.plot(history.history['accuracy'])\n",
    "plt.plot(history.history['val_accuracy'])\n",
    "plt.xlabel('epoch')\n",
    "plt.ylabel('accuracy')\n",
    "plt.legend(['train', 'val'])\n",
    "plt.show()"
   ]
  },
  {
   "cell_type": "code",
   "execution_count": 8,
   "metadata": {},
   "outputs": [
    {
     "name": "stdout",
     "output_type": "stream",
     "text": [
      "8/8 [==============================] - 0s 914us/step - loss: 0.5370 - accuracy: 0.7093\n"
     ]
    },
    {
     "data": {
      "text/plain": [
       "[0.5370168685913086, 0.7092511057853699]"
      ]
     },
     "execution_count": 8,
     "metadata": {},
     "output_type": "execute_result"
    }
   ],
   "source": [
    "model.evaluate(X_test, y_test)"
   ]
  },
  {
   "cell_type": "code",
   "execution_count": null,
   "metadata": {},
   "outputs": [],
   "source": []
  }
 ],
 "metadata": {
  "kernelspec": {
   "display_name": "Python 3",
   "language": "python",
   "name": "python3"
  },
  "language_info": {
   "codemirror_mode": {
    "name": "ipython",
    "version": 3
   },
   "file_extension": ".py",
   "mimetype": "text/x-python",
   "name": "python",
   "nbconvert_exporter": "python",
   "pygments_lexer": "ipython3",
   "version": "3.7.3"
  }
 },
 "nbformat": 4,
 "nbformat_minor": 2
}

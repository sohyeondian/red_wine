{
 "cells": [
  {
   "cell_type": "code",
   "execution_count": 1,
   "metadata": {
    "scrolled": true
   },
   "outputs": [
    {
     "data": {
      "text/html": [
       "<div>\n",
       "<style scoped>\n",
       "    .dataframe tbody tr th:only-of-type {\n",
       "        vertical-align: middle;\n",
       "    }\n",
       "\n",
       "    .dataframe tbody tr th {\n",
       "        vertical-align: top;\n",
       "    }\n",
       "\n",
       "    .dataframe thead th {\n",
       "        text-align: right;\n",
       "    }\n",
       "</style>\n",
       "<table border=\"1\" class=\"dataframe\">\n",
       "  <thead>\n",
       "    <tr style=\"text-align: right;\">\n",
       "      <th></th>\n",
       "      <th>fixed acidity</th>\n",
       "      <th>volatile acidity</th>\n",
       "      <th>citric acid</th>\n",
       "      <th>residual sugar</th>\n",
       "      <th>chlorides</th>\n",
       "      <th>free sulfur dioxide</th>\n",
       "      <th>total sulfur dioxide</th>\n",
       "      <th>density</th>\n",
       "      <th>pH</th>\n",
       "      <th>sulphates</th>\n",
       "      <th>alcohol</th>\n",
       "      <th>quality</th>\n",
       "    </tr>\n",
       "  </thead>\n",
       "  <tbody>\n",
       "    <tr>\n",
       "      <th>1130</th>\n",
       "      <td>-1.348760</td>\n",
       "      <td>0.472561</td>\n",
       "      <td>-0.920875</td>\n",
       "      <td>-0.411432</td>\n",
       "      <td>0.852138</td>\n",
       "      <td>2.005078</td>\n",
       "      <td>0.124061</td>\n",
       "      <td>-1.072016</td>\n",
       "      <td>0.958482</td>\n",
       "      <td>-0.432124</td>\n",
       "      <td>0.153822</td>\n",
       "      <td>0</td>\n",
       "    </tr>\n",
       "    <tr>\n",
       "      <th>1131</th>\n",
       "      <td>-1.556604</td>\n",
       "      <td>0.168814</td>\n",
       "      <td>-0.809927</td>\n",
       "      <td>0.044154</td>\n",
       "      <td>-1.186476</td>\n",
       "      <td>2.820555</td>\n",
       "      <td>0.408443</td>\n",
       "      <td>-0.930741</td>\n",
       "      <td>1.496465</td>\n",
       "      <td>1.174772</td>\n",
       "      <td>0.888193</td>\n",
       "      <td>1</td>\n",
       "    </tr>\n",
       "    <tr>\n",
       "      <th>1132</th>\n",
       "      <td>-1.279478</td>\n",
       "      <td>-0.074184</td>\n",
       "      <td>-0.643503</td>\n",
       "      <td>0.271947</td>\n",
       "      <td>-0.167169</td>\n",
       "      <td>1.655588</td>\n",
       "      <td>-0.038443</td>\n",
       "      <td>-0.532602</td>\n",
       "      <td>0.727918</td>\n",
       "      <td>1.085500</td>\n",
       "      <td>0.678372</td>\n",
       "      <td>1</td>\n",
       "    </tr>\n",
       "    <tr>\n",
       "      <th>1133</th>\n",
       "      <td>-1.556604</td>\n",
       "      <td>0.745933</td>\n",
       "      <td>-0.698978</td>\n",
       "      <td>-0.411432</td>\n",
       "      <td>-0.239977</td>\n",
       "      <td>2.005078</td>\n",
       "      <td>0.124061</td>\n",
       "      <td>-0.705985</td>\n",
       "      <td>1.880738</td>\n",
       "      <td>0.728412</td>\n",
       "      <td>-0.160908</td>\n",
       "      <td>0</td>\n",
       "    </tr>\n",
       "    <tr>\n",
       "      <th>1134</th>\n",
       "      <td>-1.487322</td>\n",
       "      <td>-1.289172</td>\n",
       "      <td>1.242627</td>\n",
       "      <td>3.233255</td>\n",
       "      <td>-0.822438</td>\n",
       "      <td>0.374124</td>\n",
       "      <td>0.042809</td>\n",
       "      <td>-0.693142</td>\n",
       "      <td>0.497354</td>\n",
       "      <td>0.282052</td>\n",
       "      <td>0.678372</td>\n",
       "      <td>1</td>\n",
       "    </tr>\n",
       "  </tbody>\n",
       "</table>\n",
       "</div>"
      ],
      "text/plain": [
       "      fixed acidity  volatile acidity  citric acid  residual sugar  chlorides  \\\n",
       "1130      -1.348760          0.472561    -0.920875       -0.411432   0.852138   \n",
       "1131      -1.556604          0.168814    -0.809927        0.044154  -1.186476   \n",
       "1132      -1.279478         -0.074184    -0.643503        0.271947  -0.167169   \n",
       "1133      -1.556604          0.745933    -0.698978       -0.411432  -0.239977   \n",
       "1134      -1.487322         -1.289172     1.242627        3.233255  -0.822438   \n",
       "\n",
       "      free sulfur dioxide  total sulfur dioxide   density        pH  \\\n",
       "1130             2.005078              0.124061 -1.072016  0.958482   \n",
       "1131             2.820555              0.408443 -0.930741  1.496465   \n",
       "1132             1.655588             -0.038443 -0.532602  0.727918   \n",
       "1133             2.005078              0.124061 -0.705985  1.880738   \n",
       "1134             0.374124              0.042809 -0.693142  0.497354   \n",
       "\n",
       "      sulphates   alcohol  quality  \n",
       "1130  -0.432124  0.153822        0  \n",
       "1131   1.174772  0.888193        1  \n",
       "1132   1.085500  0.678372        1  \n",
       "1133   0.728412 -0.160908        0  \n",
       "1134   0.282052  0.678372        1  "
      ]
     },
     "execution_count": 1,
     "metadata": {},
     "output_type": "execute_result"
    }
   ],
   "source": [
    "from tensorflow import keras\n",
    "from sklearn.model_selection import train_test_split\n",
    "import numpy as np\n",
    "import pandas as pd\n",
    "\n",
    "red = pd.read_csv(\"binary_class_scaled.csv\")\n",
    "\n",
    "red.tail()"
   ]
  },
  {
   "cell_type": "code",
   "execution_count": 2,
   "metadata": {},
   "outputs": [],
   "source": [
    "X = red.drop(['quality'], axis=1)\n",
    "y = red['quality']\n",
    "\n",
    "X_train, X_test, y_train, y_test = train_test_split(\n",
    "    X, y, test_size=0.2, random_state = 42)\n",
    "\n",
    "train_scaled, val_scaled, train_target, val_target = train_test_split(\n",
    "    X_train, y_train, test_size=0.2, random_state = 42)"
   ]
  },
  {
   "cell_type": "code",
   "execution_count": 3,
   "metadata": {},
   "outputs": [],
   "source": [
    "model = keras.Sequential()\n",
    "model.add(keras.layers.Dense(30, input_dim=len(X.columns), activation='relu'))\n",
    "model.add(keras.layers.Dense(12, activation='relu'))\n",
    "model.add(keras.layers.Dense(8, activation='relu'))\n",
    "model.add(keras.layers.Dense(1, activation='sigmoid'))"
   ]
  },
  {
   "cell_type": "code",
   "execution_count": 4,
   "metadata": {},
   "outputs": [
    {
     "name": "stdout",
     "output_type": "stream",
     "text": [
      "Model: \"sequential\"\n",
      "_________________________________________________________________\n",
      "Layer (type)                 Output Shape              Param #   \n",
      "=================================================================\n",
      "dense (Dense)                (None, 30)                360       \n",
      "_________________________________________________________________\n",
      "dense_1 (Dense)              (None, 12)                372       \n",
      "_________________________________________________________________\n",
      "dense_2 (Dense)              (None, 8)                 104       \n",
      "_________________________________________________________________\n",
      "dense_3 (Dense)              (None, 1)                 9         \n",
      "=================================================================\n",
      "Total params: 845\n",
      "Trainable params: 845\n",
      "Non-trainable params: 0\n",
      "_________________________________________________________________\n"
     ]
    }
   ],
   "source": [
    "model.summary()"
   ]
  },
  {
   "cell_type": "code",
   "execution_count": 5,
   "metadata": {},
   "outputs": [
    {
     "name": "stdout",
     "output_type": "stream",
     "text": [
      "WARNING:tensorflow:Falling back from v2 loop because of error: Failed to find data adapter that can handle input: <class 'pandas.core.frame.DataFrame'>, <class 'NoneType'>\n",
      "Train on 726 samples, validate on 182 samples\n",
      "Epoch 1/100\n",
      "726/726 [==============================] - 0s 404us/sample - loss: 0.7112 - accuracy: 0.4738 - val_loss: 0.7077 - val_accuracy: 0.5055\n",
      "Epoch 2/100\n",
      "726/726 [==============================] - 0s 203us/sample - loss: 0.6899 - accuracy: 0.5193 - val_loss: 0.6892 - val_accuracy: 0.5714\n",
      "Epoch 3/100\n",
      "726/726 [==============================] - 0s 351us/sample - loss: 0.6741 - accuracy: 0.5813 - val_loss: 0.6746 - val_accuracy: 0.6209\n",
      "Epoch 4/100\n",
      "726/726 [==============================] - 0s 236us/sample - loss: 0.6609 - accuracy: 0.6322 - val_loss: 0.6616 - val_accuracy: 0.6758\n",
      "Epoch 5/100\n",
      "726/726 [==============================] - 0s 65us/sample - loss: 0.6483 - accuracy: 0.6529 - val_loss: 0.6502 - val_accuracy: 0.6648\n",
      "Epoch 6/100\n",
      "726/726 [==============================] - 0s 51us/sample - loss: 0.6350 - accuracy: 0.6722 - val_loss: 0.6379 - val_accuracy: 0.6648\n",
      "Epoch 7/100\n",
      "726/726 [==============================] - 0s 50us/sample - loss: 0.6210 - accuracy: 0.6901 - val_loss: 0.6223 - val_accuracy: 0.6648\n",
      "Epoch 8/100\n",
      "726/726 [==============================] - 0s 163us/sample - loss: 0.6049 - accuracy: 0.6997 - val_loss: 0.6054 - val_accuracy: 0.6593\n",
      "Epoch 9/100\n",
      "726/726 [==============================] - 0s 51us/sample - loss: 0.5886 - accuracy: 0.7080 - val_loss: 0.5892 - val_accuracy: 0.6593\n",
      "Epoch 10/100\n",
      "726/726 [==============================] - 0s 51us/sample - loss: 0.5743 - accuracy: 0.7163 - val_loss: 0.5745 - val_accuracy: 0.6758\n",
      "Epoch 11/100\n",
      "726/726 [==============================] - 0s 54us/sample - loss: 0.5617 - accuracy: 0.7218 - val_loss: 0.5607 - val_accuracy: 0.6923\n",
      "Epoch 12/100\n",
      "726/726 [==============================] - 0s 191us/sample - loss: 0.5509 - accuracy: 0.7190 - val_loss: 0.5497 - val_accuracy: 0.7143\n",
      "Epoch 13/100\n",
      "726/726 [==============================] - 0s 59us/sample - loss: 0.5418 - accuracy: 0.7259 - val_loss: 0.5419 - val_accuracy: 0.7253\n",
      "Epoch 14/100\n",
      "726/726 [==============================] - 0s 54us/sample - loss: 0.5336 - accuracy: 0.7314 - val_loss: 0.5372 - val_accuracy: 0.7363\n",
      "Epoch 15/100\n",
      "726/726 [==============================] - 0s 54us/sample - loss: 0.5271 - accuracy: 0.7300 - val_loss: 0.5324 - val_accuracy: 0.7418\n",
      "Epoch 16/100\n",
      "726/726 [==============================] - 0s 51us/sample - loss: 0.5225 - accuracy: 0.7328 - val_loss: 0.5280 - val_accuracy: 0.7527\n",
      "Epoch 17/100\n",
      "726/726 [==============================] - 0s 54us/sample - loss: 0.5170 - accuracy: 0.7383 - val_loss: 0.5249 - val_accuracy: 0.7637\n",
      "Epoch 18/100\n",
      "726/726 [==============================] - 0s 52us/sample - loss: 0.5124 - accuracy: 0.7369 - val_loss: 0.5236 - val_accuracy: 0.7692\n",
      "Epoch 19/100\n",
      "726/726 [==============================] - 0s 51us/sample - loss: 0.5079 - accuracy: 0.7314 - val_loss: 0.5223 - val_accuracy: 0.7692\n",
      "Epoch 20/100\n",
      "726/726 [==============================] - 0s 213us/sample - loss: 0.5045 - accuracy: 0.7397 - val_loss: 0.5215 - val_accuracy: 0.7692\n",
      "Epoch 21/100\n",
      "726/726 [==============================] - 1s 995us/sample - loss: 0.5006 - accuracy: 0.7507 - val_loss: 0.5207 - val_accuracy: 0.7747\n",
      "Epoch 22/100\n",
      "726/726 [==============================] - 0s 59us/sample - loss: 0.4975 - accuracy: 0.7548 - val_loss: 0.5203 - val_accuracy: 0.7747\n",
      "Epoch 23/100\n",
      "726/726 [==============================] - 0s 51us/sample - loss: 0.4948 - accuracy: 0.7562 - val_loss: 0.5214 - val_accuracy: 0.7747\n",
      "Epoch 24/100\n",
      "726/726 [==============================] - 0s 50us/sample - loss: 0.4916 - accuracy: 0.7590 - val_loss: 0.5224 - val_accuracy: 0.7747\n",
      "Epoch 25/100\n",
      "726/726 [==============================] - 0s 51us/sample - loss: 0.4888 - accuracy: 0.7603 - val_loss: 0.5229 - val_accuracy: 0.7747\n"
     ]
    }
   ],
   "source": [
    "rmsprop = keras.optimizers.RMSprop(learning_rate=1e-4)\n",
    "model.compile(optimizer='adam',loss='binary_crossentropy', metrics=['accuracy'])\n",
    "\n",
    "checkpoint_cb = keras.callbacks.ModelCheckpoint('test-model.h5')\n",
    "\n",
    "early_stopping_cb = keras.callbacks.EarlyStopping(patience=3,\n",
    "                                                  restore_best_weights=True)\n",
    "\n",
    "history = model.fit(train_scaled, train_target, \n",
    "                    batch_size=100, epochs=100,\n",
    "                    validation_data=(val_scaled, val_target), \n",
    "                    callbacks=[checkpoint_cb, early_stopping_cb])"
   ]
  },
  {
   "cell_type": "code",
   "execution_count": 6,
   "metadata": {},
   "outputs": [
    {
     "data": {
      "image/png": "[encoded data removed]",
      "text/plain": [
       "<Figure size 432x288 with 1 Axes>"
      ]
     },
     "metadata": {
      "needs_background": "light"
     },
     "output_type": "display_data"
    }
   ],
   "source": [
    "import matplotlib.pyplot as plt\n",
    "%matplotlib inline\n",
    "\n",
    "plt.plot(history.history['loss'])\n",
    "plt.plot(history.history['val_loss'])\n",
    "plt.xlabel('epoch')\n",
    "plt.ylabel('loss')\n",
    "plt.legend(['train', 'val'])\n",
    "plt.show()"
   ]
  },
  {
   "cell_type": "code",
   "execution_count": 7,
   "metadata": {
    "scrolled": true
   },
   "outputs": [
    {
     "data": {
      "image/png": "[encoded data removed]",
      "text/plain": [
       "<Figure size 432x288 with 1 Axes>"
      ]
     },
     "metadata": {
      "needs_background": "light"
     },
     "output_type": "display_data"
    }
   ],
   "source": [
    "plt.plot(history.history['accuracy'])\n",
    "plt.plot(history.history['val_accuracy'])\n",
    "plt.xlabel('epoch')\n",
    "plt.ylabel('accuracy')\n",
    "plt.legend(['train', 'val'])\n",
    "plt.show()"
   ]
  },
  {
   "cell_type": "code",
   "execution_count": 8,
   "metadata": {},
   "outputs": [
    {
     "name": "stdout",
     "output_type": "stream",
     "text": [
      "WARNING:tensorflow:Falling back from v2 loop because of error: Failed to find data adapter that can handle input: <class 'pandas.core.frame.DataFrame'>, <class 'NoneType'>\n",
      "227/227 [==============================] - 0s 31us/sample - loss: 0.5350 - accuracy: 0.7313\n"
     ]
    },
    {
     "data": {
      "text/plain": [
       "[0.5349946683724021, 0.7312775]"
      ]
     },
     "execution_count": 8,
     "metadata": {},
     "output_type": "execute_result"
    }
   ],
   "source": [
    "model.evaluate(X_test, y_test)"
   ]
  },
  {
   "cell_type": "code",
   "execution_count": null,
   "metadata": {},
   "outputs": [],
   "source": []
  }
 ],
 "metadata": {
  "kernelspec": {
   "display_name": "Python 3",
   "language": "python",
   "name": "python3"
  },
  "language_info": {
   "codemirror_mode": {
    "name": "ipython",
    "version": 3
   },
   "file_extension": ".py",
   "mimetype": "text/x-python",
   "name": "python",
   "nbconvert_exporter": "python",
   "pygments_lexer": "ipython3",
   "version": "3.7.3"
  }
 },
 "nbformat": 4,
 "nbformat_minor": 2
}
